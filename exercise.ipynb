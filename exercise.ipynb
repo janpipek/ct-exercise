{
 "cells": [
  {
   "cell_type": "markdown",
   "metadata": {},
   "source": [
    "# Exercise: Explore the CT images of a human brain\n",
    "\n",
    "Note: Computed tomography pictures are typically stored in separate files per plane in DICOM (in Python, supported via the `pydicom` package) or NII format (in Python, use nibabel). We do not cover this; instead, our data are already processed to be readable by on-specific scientific libraries, such as xarray (in NetCDF4 format)."
   ]
  },
  {
   "cell_type": "code",
   "execution_count": null,
   "metadata": {},
   "outputs": [],
   "source": [
    "# Import the necessary evil\n",
    "import xarray\n",
    "import matplotlib.pyplot as plt"
   ]
  },
  {
   "cell_type": "markdown",
   "metadata": {},
   "source": [
    "The values stored in a 3D array represent Hounsfield scale, a quantity related but not equivalent to density. See https://en.wikipedia.org/wiki/Hounsfield_scale."
   ]
  },
  {
   "cell_type": "code",
   "execution_count": null,
   "metadata": {},
   "outputs": [],
   "source": [
    "DENSITIES = {\n",
    "    \"air\": (-1000, -900),\n",
    "    \"fat\": (-100, -50),\n",
    "    \"fluid\": (-50, 20),\n",
    "    \"white\": (20, 30),\n",
    "    \"grey\": (30, 50),\n",
    "    \"soft\": (50, 300),\n",
    "    \"bone\": (300, 1900),\n",
    "    \"heavy\": (1900, 30000)\n",
    "}"
   ]
  },
  {
   "cell_type": "code",
   "execution_count": null,
   "metadata": {},
   "outputs": [],
   "source": [
    "# Read the data\n",
    "input_path = \"../data/data.nc\"\n",
    "data = xarray.load_dataarray(input_path)"
   ]
  },
  {
   "cell_type": "markdown",
   "metadata": {},
   "source": [
    "### Question 1: Look at the values present in the dataset. Is there anything fishy about them?\n",
    "\n",
    "Hint: Look at the table of Hounsfield units for typical materials. Compare it with a histogram of values present in the dataset.\n",
    "\n",
    "See https://docs.xarray.dev/en/stable/generated/xarray.plot.hist.html"
   ]
  },
  {
   "cell_type": "code",
   "execution_count": null,
   "metadata": {},
   "outputs": [],
   "source": [
    "..."
   ]
  },
  {
   "cell_type": "code",
   "execution_count": null,
   "metadata": {},
   "outputs": [],
   "source": [
    "..."
   ]
  },
  {
   "cell_type": "markdown",
   "metadata": {},
   "source": [
    "Fix the values"
   ]
  },
  {
   "cell_type": "code",
   "execution_count": 2,
   "metadata": {},
   "outputs": [],
   "source": [
    "data = ..."
   ]
  },
  {
   "cell_type": "markdown",
   "metadata": {},
   "source": [
    "### Question 2: Find the total volume of the head\n",
    "\n",
    "Please ignore any boundaries etc., just accept any physiologically reasonable values. And use the coordinate dimensions which are stored in... a reasonable length unit ;-)\n",
    "\n",
    "Hints:\n",
    "\n",
    "- Boolean values behave like 0 and 1 in arithmetics (e.g. when summing)"
   ]
  },
  {
   "cell_type": "code",
   "execution_count": null,
   "metadata": {},
   "outputs": [],
   "source": [
    "# Check that the axes are linear (any means)\n",
    "..."
   ]
  },
  {
   "cell_type": "code",
   "execution_count": null,
   "metadata": {},
   "outputs": [],
   "source": [
    "# Find the volume of an individual voxel\n",
    "voxel_volume = ...\n"
   ]
  },
  {
   "cell_type": "code",
   "execution_count": 4,
   "metadata": {},
   "outputs": [],
   "source": [
    "# Find the voxels that are at least as dense as fat and at most as dense as bone\n",
    "is_head = ..."
   ]
  },
  {
   "cell_type": "code",
   "execution_count": null,
   "metadata": {},
   "outputs": [],
   "source": [
    "head_count = ..."
   ]
  },
  {
   "cell_type": "code",
   "execution_count": null,
   "metadata": {},
   "outputs": [],
   "source": [
    "# Compute the final value\n",
    "head_volume = ...\n",
    "head_volume"
   ]
  },
  {
   "cell_type": "markdown",
   "metadata": {},
   "source": [
    "### Question 3: Find the proportion of various materials in the whole picture (and in the head)\n",
    "\n",
    "Note that the images are a bit noisy and the values are only approximate. The assignment of materials is not precise or even close to precise.\n",
    "\n",
    "Based on the code above that finds the count of voxels of the head, it might be useful to create a function that counts voxels within a certain HU range..."
   ]
  },
  {
   "cell_type": "code",
   "execution_count": null,
   "metadata": {},
   "outputs": [],
   "source": [
    "def find_count(data, vmin, vmax):\n",
    "    ..."
   ]
  },
  {
   "cell_type": "markdown",
   "metadata": {},
   "source": [
    "Now it should be easy to iterate over all \"tissue\" materials."
   ]
  },
  {
   "cell_type": "code",
   "execution_count": null,
   "metadata": {},
   "outputs": [],
   "source": [
    "def print_proportions(data):\n",
    "    ...\n",
    "\n",
    "print_proportions(data)"
   ]
  },
  {
   "cell_type": "markdown",
   "metadata": {},
   "source": [
    "### Question 4: Plot the n-th image of a slice in the x,y plane\n",
    "\n",
    "Hint: Look at the `isel` method or `iloc` accessor."
   ]
  },
  {
   "cell_type": "code",
   "execution_count": null,
   "metadata": {},
   "outputs": [],
   "source": [
    "n = 5\n",
    "nth_slice = ... \n",
    "\n",
    "..."
   ]
  },
  {
   "cell_type": "markdown",
   "metadata": {},
   "source": [
    "Now try to imitate a \"proper\" radiological image by selecting an appropriate colorscale and value boundaries.\n",
    "\n",
    "- You can find a list of colormaps here: https://matplotlib.org/stable/tutorials/colors/colormaps.html\n",
    "- Select the values that are interesting from medicine point of view"
   ]
  },
  {
   "cell_type": "code",
   "execution_count": null,
   "metadata": {},
   "outputs": [],
   "source": [
    "def plot_slice(slice):\n",
    "    ...\n",
    "\n",
    "plot_slice(nth_slice)"
   ]
  },
  {
   "cell_type": "markdown",
   "metadata": {},
   "source": [
    "### Question 5: Find the \"z\" plane which contains the highest amount of bone voxels\n",
    "\n",
    "Hints:\n",
    "\n",
    "- Look at the documentation for the [sum](https://docs.xarray.dev/en/stable/generated/xarray.DataArray.sum.html) method\n",
    "\n",
    "- Look at the documentation for the [idxmax](https://docs.xarray.dev/en/stable/generated/xarray.DataArray.idxmax.html) method"
   ]
  },
  {
   "cell_type": "code",
   "execution_count": null,
   "metadata": {},
   "outputs": [],
   "source": [
    "is_bone = ...\n",
    "is_bone"
   ]
  },
  {
   "cell_type": "markdown",
   "metadata": {},
   "source": [
    "Count the bone voxels in each slice"
   ]
  },
  {
   "cell_type": "code",
   "execution_count": null,
   "metadata": {},
   "outputs": [],
   "source": [
    "bone_count = ..."
   ]
  },
  {
   "cell_type": "markdown",
   "metadata": {},
   "source": [
    "Select the one with the highest value"
   ]
  },
  {
   "cell_type": "code",
   "execution_count": null,
   "metadata": {},
   "outputs": [],
   "source": [
    "bone_slice = ...\n",
    "bone_slice"
   ]
  },
  {
   "cell_type": "markdown",
   "metadata": {},
   "source": [
    "Plot the slice..."
   ]
  },
  {
   "cell_type": "code",
   "execution_count": null,
   "metadata": {},
   "outputs": [],
   "source": [
    " = data.sel(z=idx)\n",
    "plot_slice(bone_slice)"
   ]
  },
  {
   "cell_type": "markdown",
   "metadata": {},
   "source": [
    "### Question 6: Create an image with one plot per each dimension (again, highest bone content)\n",
    "\n",
    "This task combines two things:\n",
    "\n",
    "- Generalize the previous question, ideally using functions\n",
    "- Creating a plot with multiple subplots. This is well shown here: https://matplotlib.org/stable/gallery/subplots_axes_and_figures/subplots_demo.html "
   ]
  },
  {
   "cell_type": "code",
   "execution_count": null,
   "metadata": {},
   "outputs": [],
   "source": [
    "..."
   ]
  },
  {
   "cell_type": "markdown",
   "metadata": {},
   "source": [
    "# Bonus: interactive viewer within the notebook\n",
    "\n",
    "This uses [Jupyter widgets](https://ipywidgets.readthedocs.io/en/stable/) to reproduce an interactive plot useful for browsing CT data."
   ]
  },
  {
   "cell_type": "code",
   "execution_count": null,
   "metadata": {},
   "outputs": [],
   "source": [
    "import ipywidgets as widgets\n",
    "from ipywidgets import FloatSlider, interact\n",
    "from IPython.display import display"
   ]
  },
  {
   "cell_type": "code",
   "execution_count": null,
   "metadata": {},
   "outputs": [],
   "source": [
    "..."
   ]
  },
  {
   "cell_type": "code",
   "execution_count": null,
   "metadata": {},
   "outputs": [],
   "source": [
    "..."
   ]
  }
 ],
 "metadata": {
  "kernelspec": {
   "display_name": "Python 3 (ipykernel)",
   "language": "python",
   "name": "python3"
  },
  "language_info": {
   "codemirror_mode": {
    "name": "ipython",
    "version": 3
   },
   "file_extension": ".py",
   "mimetype": "text/x-python",
   "name": "python",
   "nbconvert_exporter": "python",
   "pygments_lexer": "ipython3",
   "version": "3.11.0"
  }
 },
 "nbformat": 4,
 "nbformat_minor": 2
}
